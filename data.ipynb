{
    "nbformat_minor": 0,
    "cells": [
        {
            "cell_type": "code",
            "metadata": {
                "collapsed": true
            },
            "source": "",
            "execution_count": null,
            "outputs": []
        }
    ],
    "metadata": {
        "kernelspec": {
            "name": "python3",
            "display_name": "Python 3.11",
            "language": "python",
            "version": "3.11"
        }
    },
    "nbformat": 4
}